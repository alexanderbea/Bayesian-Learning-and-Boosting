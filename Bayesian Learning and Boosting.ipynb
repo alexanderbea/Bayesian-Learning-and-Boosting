{
 "cells": [
  {
   "cell_type": "markdown",
   "metadata": {
    "id": "K1u3V2JpK8jF"
   },
   "source": [
    "# Bayes Classifier and Boosting"
   ]
  },
  {
   "cell_type": "code",
   "execution_count": 2,
   "metadata": {
    "cellView": "both",
    "colab": {
     "base_uri": "https://localhost:8080/",
     "height": 35
    },
    "executionInfo": {
     "elapsed": 28349,
     "status": "ok",
     "timestamp": 1602704948579,
     "user": {
      "displayName": "Tinker Projects",
      "photoUrl": "",
      "userId": "02989585942682063308"
     },
     "user_tz": -120
    },
    "id": "xpNOJCHrNH-z",
    "outputId": "a180b784-123b-447a-c287-06c826a23b02"
   },
   "outputs": [
    {
     "name": "stdout",
     "output_type": "stream",
     "text": [
      "Mounted at /content/drive/\n"
     ]
    }
   ],
   "source": [
    "#@title Connect Drive\n",
    "from google.colab import drive\n",
    "drive.mount('/content/drive/')\n",
    "\n",
    "drive = '/content/..'\n",
    "\n",
    "import sys\n",
    "sys.path.append(drive)"
   ]
  },
  {
   "cell_type": "code",
   "execution_count": 3,
   "metadata": {
    "executionInfo": {
     "elapsed": 28347,
     "status": "ok",
     "timestamp": 1602704948581,
     "user": {
      "displayName": "Tinker Projects",
      "photoUrl": "",
      "userId": "02989585942682063308"
     },
     "user_tz": -120
    },
    "id": "OnO9ry-uK8jJ"
   },
   "outputs": [],
   "source": [
    "import numpy as np\n",
    "from scipy import misc\n",
    "from imp import reload\n",
    "# from labfuns import * #instead of importing, I have copied the code to the below\n",
    "import random"
   ]
  },
  {
   "cell_type": "code",
   "execution_count": 4,
   "metadata": {
    "cellView": "both",
    "executionInfo": {
     "elapsed": 30964,
     "status": "ok",
     "timestamp": 1602704951202,
     "user": {
      "displayName": "Tinker Projects",
      "photoUrl": "",
      "userId": "02989585942682063308"
     },
     "user_tz": -120
    },
    "id": "bpC-YQp2Rpyf"
   },
   "outputs": [],
   "source": [
    "#@title Functions & Sample files: labfuns\n",
    "from __future__ import absolute_import, division, print_function\n",
    "import numpy as np\n",
    "from numpy import genfromtxt\n",
    "import matplotlib.pyplot as plt\n",
    "import matplotlib.cm as cm\n",
    "from matplotlib.patches import Ellipse\n",
    "from matplotlib.colors import ColorConverter\n",
    "import random as rnd\n",
    "from sklearn.datasets.samples_generator import make_blobs\n",
    "from sklearn import decomposition, tree\n",
    "\n",
    "# import seaborn as sns\n",
    "# sns.set()\n",
    "\n",
    "def plot_cov_ellipse(cov, pos, nstd=2, ax=None, **kwargs):\n",
    "    \"\"\"\n",
    "    Plots an `nstd` sigma error ellipse based on the specified covariance\n",
    "    matrix (`cov`). Additional keyword arguments are passed on to the\n",
    "    ellipse patch artist.\n",
    "\n",
    "    Parameters\n",
    "    ----------\n",
    "        cov : The 2x2 covariance matrix to base the ellipse on\n",
    "        pos : The location of the center of the ellipse. Expects a 2-element\n",
    "            sequence of [x0, y0].\n",
    "        nstd : The radius of the ellipse in numbers of standard deviations.\n",
    "            Defaults to 2 standard deviations.\n",
    "        ax : The axis that the ellipse will be plotted on. Defaults to the\n",
    "            current axis.\n",
    "        Additional keyword arguments are pass on to the ellipse patch.\n",
    "\n",
    "    Returns\n",
    "    -------\n",
    "        A matplotlib ellipse artist\n",
    "    \"\"\"\n",
    "    def eigsorted(cov):\n",
    "        vals, vecs = np.linalg.eigh(cov)\n",
    "        order = vals.argsort()[::-1]\n",
    "        return vals[order], vecs[:,order]\n",
    "\n",
    "    if ax is None:\n",
    "        ax = plt.gca()\n",
    "\n",
    "    vals, vecs = eigsorted(cov)\n",
    "    theta = np.degrees(np.arctan2(*vecs[:,0][::-1]))\n",
    "\n",
    "    # Width and height are \"full\" widths, not radius\n",
    "    width, height = 2 * nstd * np.sqrt(vals)\n",
    "    ellip = Ellipse(xy=pos, width=width, height=height, angle=theta, **kwargs)\n",
    "    ellip.set_alpha(0.25)\n",
    "\n",
    "    ax.add_artist(ellip)\n",
    "    return ellip\n",
    "\n",
    "\n",
    "# Splits data into training and test set, pcSplit defines the percent of\n",
    "# the data should be used as training data.\n",
    "def trteSplit(X,y,pcSplit,seed=None):\n",
    "    # Compute split indices\n",
    "    Ndata = X.shape[0]\n",
    "    Ntr = int(np.rint(Ndata*pcSplit))\n",
    "    Nte = Ndata-Ntr\n",
    "    np.random.seed(seed)    \n",
    "    idx = np.random.permutation(Ndata)\n",
    "    trIdx = idx[:Ntr]\n",
    "    teIdx = idx[Ntr:]\n",
    "    # Split data\n",
    "    xTr = X[trIdx,:]\n",
    "    yTr = y[trIdx]\n",
    "    xTe = X[teIdx,:]\n",
    "    yTe = y[teIdx]\n",
    "    return xTr,yTr,xTe,yTe,trIdx,teIdx\n",
    "\n",
    "\n",
    "# Splits data into training and test set, pcSplit defines the percent of\n",
    "# the data should be used as training data. The major difference to\n",
    "# trteSplit is that we select the percent from each class individually.\n",
    "# This means that we are assured to have enough points for each class.\n",
    "def trteSplitEven(X,y,pcSplit,seed=None):\n",
    "    labels = np.unique(y)\n",
    "    xTr = np.zeros((0,X.shape[1]))\n",
    "    xTe = np.zeros((0,X.shape[1]))\n",
    "    yTe = np.zeros((0,),dtype=int)\n",
    "    yTr = np.zeros((0,),dtype=int)\n",
    "    trIdx = np.zeros((0,),dtype=int)\n",
    "    teIdx = np.zeros((0,),dtype=int)\n",
    "    np.random.seed(seed)\n",
    "    for label in labels:\n",
    "        classIdx = np.where(y==label)[0]\n",
    "        NPerClass = len(classIdx)\n",
    "        Ntr = int(np.rint(NPerClass*pcSplit))\n",
    "        idx = np.random.permutation(NPerClass)\n",
    "        trClIdx = classIdx[idx[:Ntr]]\n",
    "        teClIdx = classIdx[idx[Ntr:]]\n",
    "        trIdx = np.hstack((trIdx,trClIdx))\n",
    "        teIdx = np.hstack((teIdx,teClIdx))\n",
    "        # Split data\n",
    "        xTr = np.vstack((xTr,X[trClIdx,:]))\n",
    "        yTr = np.hstack((yTr,y[trClIdx]))\n",
    "        xTe = np.vstack((xTe,X[teClIdx,:]))\n",
    "        yTe = np.hstack((yTe,y[teClIdx]))\n",
    "\n",
    "    return xTr,yTr,xTe,yTe,trIdx,teIdx\n",
    "\n",
    "\n",
    "def fetchDataset(dataset='iris'):\n",
    "    if dataset == 'iris':\n",
    "        X = genfromtxt(drive+'irisX.txt', delimiter=',')\n",
    "        y = genfromtxt(drive+'irisY.txt', delimiter=',',dtype=np.int)-1\n",
    "        pcadim = 2\n",
    "    elif dataset == 'wine':\n",
    "        X = genfromtxt(drive+'wineX.txt', delimiter=',')\n",
    "        y = genfromtxt(drive+'wineY.txt', delimiter=',',dtype=np.int)-1\n",
    "        pcadim = 0\n",
    "    elif dataset == 'olivetti':\n",
    "        X = genfromtxt(drive+'olivettifacesX.txt', delimiter=',')\n",
    "        X = X/255\n",
    "        y = genfromtxt(drive+'olivettifacesY.txt', delimiter=',',dtype=np.int)\n",
    "        pcadim = 20\n",
    "    elif dataset == 'vowel':\n",
    "        X = genfromtxt(drive+'vowelX.txt', delimiter=',')\n",
    "        y = genfromtxt(drive+'vowelY.txt', delimiter=',',dtype=np.int)\n",
    "        pcadim = 0\n",
    "    else:\n",
    "        print(\"Please specify a dataset!\")\n",
    "        X = np.zeros(0)\n",
    "        y = np.zeros(0)\n",
    "        pcadim = 0\n",
    "\n",
    "    return X,y,pcadim\n",
    "\n",
    "\n",
    "def genBlobs(n_samples=200,centers=5,n_features=2):\n",
    "    X, y = make_blobs(n_samples=n_samples, centers=centers, n_features=n_features,random_state=0)\n",
    "    return X,y\n",
    "\n",
    "\n",
    "# Scatter plots the two first dimension of the given data matrix X\n",
    "# and colors the points by the labels.\n",
    "def scatter2D(X,y):\n",
    "    labels = np.unique(y)\n",
    "    Ncolors = len(labels)\n",
    "    xx = np.arange(Ncolors)\n",
    "    ys = [i+xx+(i*xx)**2 for i in range(Ncolors)]\n",
    "    colors = cm.rainbow(np.linspace(0, 1, len(ys)))\n",
    "    c = 1.0\n",
    "    for label in labels:\n",
    "        classIdx = np.where(y==label)[0]\n",
    "        Xclass = X[classIdx,:]\n",
    "        plt.scatter(Xclass[:,0],Xclass[:,1],linewidths=1,s=25,color=colors[label],marker='o',alpha=0.75)\n",
    "        c += 1.\n",
    "\n",
    "    plt.show()\n",
    "\n",
    "\n",
    "def plotGaussian(X,y,mu,sigma):\n",
    "    labels = np.unique(y)\n",
    "    Ncolors = len(labels)\n",
    "    xx = np.arange(Ncolors)\n",
    "    ys = [i+xx+(i*xx)**2 for i in range(Ncolors)]\n",
    "    colors = cm.rainbow(np.linspace(0, 1, len(ys)))\n",
    "    c = 1.0\n",
    "    for label in labels:\n",
    "        classIdx = y==label\n",
    "        Xclass = X[classIdx,:]\n",
    "        plot_cov_ellipse(sigma[label], mu[label])\n",
    "        plt.scatter(Xclass[:,0],Xclass[:,1],linewidths=1,s=25,color=colors[label],marker='o',alpha=0.75)\n",
    "        c += 1.\n",
    "\n",
    "    plt.show()\n",
    "\n",
    "\n",
    "# The function below, `testClassifier`, will be used to try out the different datasets.\n",
    "# `fetchDataset` can be provided with any of the dataset arguments `wine`, `iris`, `olivetti` and `vowel`.\n",
    "# Observe that we split the data into a **training** and a **testing** set.\n",
    "def testClassifier(classifier, dataset='iris', dim=0, split=0.7, ntrials=100):\n",
    "\n",
    "    X,y,pcadim = fetchDataset(dataset)\n",
    "\n",
    "    means = np.zeros(ntrials,);\n",
    "\n",
    "    for trial in range(ntrials):\n",
    "\n",
    "        xTr,yTr,xTe,yTe,trIdx,teIdx = trteSplitEven(X,y,split,trial)\n",
    "\n",
    "        # Do PCA replace default value if user provides it\n",
    "        if dim > 0:\n",
    "            pcadim = dim\n",
    "\n",
    "        if pcadim > 0:\n",
    "            pca = decomposition.PCA(n_components=pcadim)\n",
    "            pca.fit(xTr)\n",
    "            xTr = pca.transform(xTr)\n",
    "            xTe = pca.transform(xTe)\n",
    "\n",
    "        # Train\n",
    "        trained_classifier = classifier.trainClassifier(xTr, yTr)\n",
    "        # Predict\n",
    "        yPr = trained_classifier.classify(xTe)\n",
    "\n",
    "        # Compute classification error\n",
    "        if trial % 10 == 0:\n",
    "            print(\"Trial:\",trial,\"Accuracy\",\"%.3g\" % (100*np.mean((yPr==yTe).astype(float))) )\n",
    "\n",
    "        means[trial] = 100*np.mean((yPr==yTe).astype(float))\n",
    "\n",
    "    print(\"Final mean classification accuracy \", \"%.3g\" % (np.mean(means)), \"with standard deviation\", \"%.3g\" % (np.std(means)))\n",
    "\n",
    "\n",
    "# ## Plotting the decision boundary\n",
    "#\n",
    "# This is some code that you can use for plotting the decision boundary\n",
    "# boundary in the last part of the lab.\n",
    "def plotBoundary(classifier, dataset='iris', split=0.7):\n",
    "\n",
    "    X,y,pcadim = fetchDataset(dataset)\n",
    "    xTr,yTr,xTe,yTe,trIdx,teIdx = trteSplitEven(X,y,split,1)\n",
    "    classes = np.unique(y)\n",
    "\n",
    "    pca = decomposition.PCA(n_components=2)\n",
    "    pca.fit(xTr)\n",
    "\n",
    "    xTr = pca.transform(xTr)\n",
    "    xTe = pca.transform(xTe)\n",
    "\n",
    "    pX = np.vstack((xTr, xTe))\n",
    "    py = np.hstack((yTr, yTe))\n",
    "\n",
    "    # Train\n",
    "    trained_classifier = classifier.trainClassifier(xTr, yTr)\n",
    "\n",
    "    xRange = np.arange(np.min(pX[:,0]),np.max(pX[:,0]),np.abs(np.max(pX[:,0])-np.min(pX[:,0]))/100.0)\n",
    "    yRange = np.arange(np.min(pX[:,1]),np.max(pX[:,1]),np.abs(np.max(pX[:,1])-np.min(pX[:,1]))/100.0)\n",
    "\n",
    "    grid = np.zeros((yRange.size, xRange.size))\n",
    "\n",
    "    for (xi, xx) in enumerate(xRange):\n",
    "        for (yi, yy) in enumerate(yRange):\n",
    "            # Predict\n",
    "            grid[yi,xi] = trained_classifier.classify(np.array([[xx, yy]]))\n",
    "\n",
    "    \n",
    "    ys = [i+xx+(i*xx)**2 for i in range(len(classes))]\n",
    "    colormap = cm.rainbow(np.linspace(0, 1, len(ys)))\n",
    "\n",
    "    fig = plt.figure()\n",
    "    # plt.hold(True)\n",
    "    conv = ColorConverter()\n",
    "    for (color, c) in zip(colormap, classes):\n",
    "        try:\n",
    "            CS = plt.contour(xRange,yRange,(grid==c).astype(float),15,linewidths=0.25,colors=conv.to_rgba_array(color))\n",
    "        except ValueError:\n",
    "            pass\n",
    "        trClIdx = np.where(y[trIdx] == c)[0]\n",
    "        teClIdx = np.where(y[teIdx] == c)[0]\n",
    "        plt.scatter(xTr[trClIdx,0],xTr[trClIdx,1],marker='o',c=color,s=40,alpha=0.5, label=\"Class \"+str(c)+\" Train\")\n",
    "        plt.scatter(xTe[teClIdx,0],xTe[teClIdx,1],marker='*',c=color,s=50,alpha=0.8, label=\"Class \"+str(c)+\" Test\")\n",
    "    plt.legend(bbox_to_anchor=(1., 1), loc=2, borderaxespad=0.)\n",
    "    fig.subplots_adjust(right=0.7)\n",
    "    plt.show()\n",
    "\n",
    "\n",
    "def visualizeOlivettiVectors(xTr, Xte):\n",
    "    N = xTr.shape[0]\n",
    "    Xte = Xte.reshape(64, 64).transpose()\n",
    "    plt.subplot(1, 2, 1)\n",
    "    plt.xticks([])\n",
    "    plt.yticks([])\n",
    "    plt.title(\"Test image\")\n",
    "    plt.imshow(Xte, cmap=plt.get_cmap('gray'))\n",
    "    for i in range(0, N):\n",
    "        plt.subplot(N, 2, 2+2*i)\n",
    "        plt.xticks([])\n",
    "        plt.yticks([])\n",
    "        plt.title(\"Matched class training image %i\" % (i+1))\n",
    "        X = xTr[i, :].reshape(64, 64).transpose()\n",
    "        plt.imshow(X, cmap=plt.get_cmap('gray'))\n",
    "    plt.show()\n",
    "\n",
    "\n",
    "class DecisionTreeClassifier(object):\n",
    "    def __init__(self):\n",
    "        self.trained = False\n",
    "\n",
    "    def trainClassifier(self, Xtr, yTr, W=None):\n",
    "        rtn = DecisionTreeClassifier()\n",
    "        rtn.classifier = tree.DecisionTreeClassifier(max_depth=Xtr.shape[1]/2+1)\n",
    "        if W is None:\n",
    "            rtn.classifier.fit(Xtr, yTr)\n",
    "        else:\n",
    "            rtn.classifier.fit(Xtr, yTr, sample_weight=W.flatten())\n",
    "        rtn.trained = True\n",
    "        return rtn\n",
    "\n",
    "    def classify(self, X):\n",
    "        return self.classifier.predict(X)\n"
   ]
  },
  {
   "cell_type": "code",
   "execution_count": 5,
   "metadata": {
    "executionInfo": {
     "elapsed": 30965,
     "status": "ok",
     "timestamp": 1602704951207,
     "user": {
      "displayName": "Tinker Projects",
      "photoUrl": "",
      "userId": "02989585942682063308"
     },
     "user_tz": -120
    },
    "id": "zcA0H-cxK8jT"
   },
   "outputs": [],
   "source": [
    "# in: labels - N vector of class labels\n",
    "# out: prior - C x 1 vector of class priors\n",
    "def computePrior(labels, W=None):\n",
    "    Npts = labels.shape[0]\n",
    "    if W is None:\n",
    "        W = np.ones((Npts,1))/Npts\n",
    "    else:\n",
    "        assert(W.shape[0] == Npts)\n",
    "    classes = np.unique(labels)\n",
    "    Nclasses = np.size(classes)\n",
    "\n",
    "    prior = np.zeros((Nclasses,1))\n",
    "\n",
    "    # TODO: compute the values of prior for each class!\n",
    "    # ==========================\n",
    "    \n",
    "    ############ A2 (1), START #############\n",
    "    #Estimate the prior in X (ignoring W argument)\n",
    "    if assignmentNo in (1,2):\n",
    "      for k in classes: \n",
    "        N_k = np.size(np.where(labels == k)[0])\n",
    "        N = np.size(labels) \n",
    "        prior[k] = N_k / N # Equation 12 \n",
    "    ############ A2 (1), END #############\n",
    "\n",
    "    ############ A5 (1), START #############\n",
    "    #Estimate the prior boosting taking weights w into account\n",
    "    if assignmentNo in (4,5):\n",
    "      for k in classes: \n",
    "        prior[k] = sum(W[i] for i in np.where(labels == k)[0]) \n",
    "    ############ A5 (1), END #############\n",
    "\n",
    "    return prior\n",
    "\n",
    "# in:      X - N x d matrix of N data points\n",
    "#     labels - N vector of class labels\n",
    "# out:    mu - C x d matrix of class means (mu[i] - class i mean)\n",
    "#      sigma - C x d x d matrix of class covariances (sigma[i] - class i sigma)\n",
    "def mlParams(X, labels, W=None):\n",
    "    assert(X.shape[0]==labels.shape[0])\n",
    "    Npts,Ndims = np.shape(X)\n",
    "    classes = np.unique(labels)\n",
    "    Nclasses = np.size(classes)\n",
    "\n",
    "    if W is None:\n",
    "        W = np.ones((Npts,1))/float(Npts)\n",
    "\n",
    "    mu = np.zeros((Nclasses,Ndims))\n",
    "    sigma = np.zeros((Nclasses,Ndims,Ndims))\n",
    "\n",
    "    # ==========================\n",
    "    ############ A1, START #############\n",
    "      # Compute mu and sigma for the different classes\n",
    "      # X is a set of row vectors\n",
    "      # labels are the class labels per each data point\n",
    "      # ignore the W argument\n",
    "      # function should return C x d-array mu and C x d x d array sigma which is the \\\n",
    "      #   class covariance: Covariance must be implemented with own code NOT library\n",
    "\n",
    "    if assignmentNo in (1,2):\n",
    "      for k in classes: \n",
    "        # firstly, Equation 8\n",
    "        icik = (np.where(labels == k)[0])  \n",
    "        numberClasses = (np.size(icik))\n",
    "        mu[k] = sum(X[i] for i in icik) / numberClasses  \n",
    "        #next Equation 10\n",
    "        sigma[k] = np.diag(1/numberClasses * \\\n",
    "                           sum(pow(X[i] - mu[k], 2) for i in icik))      \n",
    "\n",
    "    ############ A1, END #############\n",
    "\n",
    "    ############ A4, START #############\n",
    "      # Implement the weighted instances\n",
    "      # Again, X is the feature vectirs N x d \n",
    "      # W is a N x 1 matrix of weight\n",
    "    if assignmentNo in (4,5):\n",
    "      for k in classes: \n",
    "        # firstly, Equation 8\n",
    "        icik = (np.where(labels == k)[0])  \n",
    "        numberClasses = (np.size(icik))\n",
    "        #next Equation 13\n",
    "        mu[k] = sum(X[i] * W[i] for i in icik) / sum(W[i] for i in icik)  \n",
    "        #then Equation 14\n",
    "        sigma[k] = np.diag((1/sum(W[i] for i in icik)) * sum(pow(X[i] - mu[k], 2) * W[i] for i in icik))   \n",
    "    ############ A4, END #############    \n",
    "    # ==========================\n",
    "\n",
    "    return mu, sigma\n",
    "\n",
    "# in:      X - N x d matrix of M data points\n",
    "#      prior - C x 1 matrix of class priors\n",
    "#         mu - C x d matrix of class means (mu[i] - class i mean)\n",
    "#      sigma - C x d x d matrix of class covariances (sigma[i] - class i sigma)\n",
    "# out:     h - N vector of class predictions for test points\n",
    "def classifyBayes(X, prior, mu, sigma):\n",
    "\n",
    "    Npts = X.shape[0]\n",
    "    Nclasses,Ndims = np.shape(mu)\n",
    "    logProb = np.zeros((Nclasses, Npts))\n",
    "\n",
    "    # ==========================\n",
    "\n",
    "    ############ A2 (2), START #############\n",
    "    #Compute the discriminant function values for all classes and data points\n",
    "    #Classify each point to belong to the max discrimant value. Then return \n",
    "    #a length N vector containing the predicted class value for each point \n",
    "    #Equation 11\n",
    "    \n",
    "    if assignmentNo in (1,2,4,5):\n",
    "      for k in range(Nclasses): #loop through the three classes\n",
    "        for i, x in enumerate(X): #loop through X\n",
    "          #numpy.linalg.det => Compute the determinant of the array\n",
    "          eq11 = \\\n",
    "            - 0.5 * np.log(np.linalg.det(sigma[k])) \\\n",
    "            - 0.5 * np.dot(x - mu[k], np.dot(np.linalg.inv(sigma[k]), np.transpose(x - mu[k]))) \\\n",
    "            + np.log(prior[k]) \n",
    "          logProb[k, i] = eq11\n",
    "    ############ A2 (2), END #############    \n",
    "\n",
    "\n",
    "    # ==========================\n",
    "    \n",
    "    # one possible way of finding max a-posteriori once\n",
    "    # you have computed the log posterior\n",
    "    h = np.argmax(logProb,axis=0)\n",
    "    return h\n"
   ]
  },
  {
   "cell_type": "markdown",
   "metadata": {
    "id": "7JAbYAL6K8jb"
   },
   "source": [
    "The implemented functions can now be summarized into the `BayesClassifier` class, which we will use later to test the classifier, no need to add anything else here:"
   ]
  },
  {
   "cell_type": "code",
   "execution_count": 6,
   "metadata": {
    "executionInfo": {
     "elapsed": 30964,
     "status": "ok",
     "timestamp": 1602704951209,
     "user": {
      "displayName": "Tinker Projects",
      "photoUrl": "",
      "userId": "02989585942682063308"
     },
     "user_tz": -120
    },
    "id": "L2yofwmjK8jb"
   },
   "outputs": [],
   "source": [
    "\n",
    "class BayesClassifier(object):\n",
    "    def __init__(self):\n",
    "        self.trained = False\n",
    "\n",
    "    def trainClassifier(self, X, labels, W=None):\n",
    "        rtn = BayesClassifier()\n",
    "        rtn.prior = computePrior(labels, W)\n",
    "        rtn.mu, rtn.sigma = mlParams(X, labels, W)\n",
    "        rtn.trained = True\n",
    "        return rtn\n",
    "\n",
    "    def classify(self, X):\n",
    "        return classifyBayes(X, self.prior, self.mu, self.sigma)"
   ]
  },
  {
   "cell_type": "markdown",
   "metadata": {
    "id": "_w8BHzRRK8jh"
   },
   "source": [
    "## Test the Maximum Likelihood estimates\n",
    "\n",
    "Call `genBlobs` and `plotGaussian` to verify your estimates."
   ]
  },
  {
   "cell_type": "code",
   "execution_count": 7,
   "metadata": {
    "colab": {
     "base_uri": "https://localhost:8080/",
     "height": 269
    },
    "executionInfo": {
     "elapsed": 31248,
     "status": "ok",
     "timestamp": 1602704951508,
     "user": {
      "displayName": "Tinker Projects",
      "photoUrl": "",
      "userId": "02989585942682063308"
     },
     "user_tz": -120
    },
    "id": "RircyQgfK8ji",
    "outputId": "844a2b9c-8cb7-4d56-d3da-03a42e669ef5"
   },
   "outputs": [
    {
     "data": {
      "image/png": "[encoded data removed]",
      "text/plain": [
       "<Figure size 432x288 with 1 Axes>"
      ]
     },
     "metadata": {
      "needs_background": "light",
      "tags": []
     },
     "output_type": "display_data"
    }
   ],
   "source": [
    "%matplotlib inline\n",
    "\n",
    "assignmentNo = 1 #goal is to classify scenarios of set of points to a resp. class using bayesian classification\n",
    "X, labels = genBlobs(centers=5)\n",
    "mu, sigma = mlParams(X,labels) #compute ML estimates for the data\n",
    "plotGaussian(X,labels,mu,sigma) #plot the 95%-confidence interval using this function"
   ]
  },
  {
   "cell_type": "markdown",
   "metadata": {
    "id": "p7IlrAXZK8jo"
   },
   "source": [
    "Call the `testClassifier` and `plotBoundary` functions for this part."
   ]
  },
  {
   "cell_type": "code",
   "execution_count": 8,
   "metadata": {
    "colab": {
     "base_uri": "https://localhost:8080/",
     "height": 208
    },
    "executionInfo": {
     "elapsed": 32232,
     "status": "ok",
     "timestamp": 1602704952509,
     "user": {
      "displayName": "Tinker Projects",
      "photoUrl": "",
      "userId": "02989585942682063308"
     },
     "user_tz": -120
    },
    "id": "hrpUpPvmK8jp",
    "outputId": "4edd0053-5080-4c0f-8abe-ee9329c9d353"
   },
   "outputs": [
    {
     "name": "stdout",
     "output_type": "stream",
     "text": [
      "Trial: 0 Accuracy 84.4\n",
      "Trial: 10 Accuracy 95.6\n",
      "Trial: 20 Accuracy 93.3\n",
      "Trial: 30 Accuracy 86.7\n",
      "Trial: 40 Accuracy 88.9\n",
      "Trial: 50 Accuracy 91.1\n",
      "Trial: 60 Accuracy 86.7\n",
      "Trial: 70 Accuracy 91.1\n",
      "Trial: 80 Accuracy 86.7\n",
      "Trial: 90 Accuracy 91.1\n",
      "Final mean classification accuracy  89 with standard deviation 4.16\n"
     ]
    }
   ],
   "source": [
    "assignmentNo = 2\n",
    "testClassifier(BayesClassifier(), dataset='iris', split=0.7)"
   ]
  },
  {
   "cell_type": "code",
   "execution_count": 9,
   "metadata": {
    "colab": {
     "base_uri": "https://localhost:8080/",
     "height": 208
    },
    "executionInfo": {
     "elapsed": 39615,
     "status": "ok",
     "timestamp": 1602704959907,
     "user": {
      "displayName": "Tinker Projects",
      "photoUrl": "",
      "userId": "02989585942682063308"
     },
     "user_tz": -120
    },
    "id": "_7yEqF80K8ju",
    "outputId": "dcb915c1-0ffb-43d6-d152-e8947f027fb6"
   },
   "outputs": [
    {
     "name": "stdout",
     "output_type": "stream",
     "text": [
      "Trial: 0 Accuracy 61\n",
      "Trial: 10 Accuracy 66.2\n",
      "Trial: 20 Accuracy 74\n",
      "Trial: 30 Accuracy 66.9\n",
      "Trial: 40 Accuracy 59.7\n",
      "Trial: 50 Accuracy 64.3\n",
      "Trial: 60 Accuracy 66.9\n",
      "Trial: 70 Accuracy 63.6\n",
      "Trial: 80 Accuracy 62.3\n",
      "Trial: 90 Accuracy 70.8\n",
      "Final mean classification accuracy  64.7 with standard deviation 4.03\n"
     ]
    }
   ],
   "source": [
    "assignmentNo = 2\n",
    "testClassifier(BayesClassifier(), dataset='vowel', split=0.7)"
   ]
  },
  {
   "cell_type": "code",
   "execution_count": 10,
   "metadata": {
    "colab": {
     "base_uri": "https://localhost:8080/",
     "height": 367
    },
    "executionInfo": {
     "elapsed": 43829,
     "status": "ok",
     "timestamp": 1602704964135,
     "user": {
      "displayName": "Tinker Projects",
      "photoUrl": "",
      "userId": "02989585942682063308"
     },
     "user_tz": -120
    },
    "id": "qpyhXG-EK8j0",
    "outputId": "8e7fb0a3-f9e8-4698-e317-ff9d773d4024"
   },
   "outputs": [
    {
     "data": {
      "image/png": "[encoded data removed]",
      "text/plain": [
       "<Figure size 432x288 with 1 Axes>"
      ]
     },
     "metadata": {
      "needs_background": "light",
      "tags": []
     },
     "output_type": "display_data"
    }
   ],
   "source": [
    "%matplotlib inline\n",
    "assignmentNo = 2\n",
    "plotBoundary(BayesClassifier(), dataset='vowel',split=0.7)"
   ]
  },
  {
   "cell_type": "markdown",
   "metadata": {
    "id": "RV6EOPX_K8j4"
   },
   "source": [
    "## Boosting functions to implement\n",
    "\n",
    "The lab descriptions state what each function should do."
   ]
  },
  {
   "cell_type": "code",
   "execution_count": 11,
   "metadata": {
    "executionInfo": {
     "elapsed": 43827,
     "status": "ok",
     "timestamp": 1602704964137,
     "user": {
      "displayName": "Tinker Projects",
      "photoUrl": "",
      "userId": "02989585942682063308"
     },
     "user_tz": -120
    },
    "id": "YNasBQzTK8j5"
   },
   "outputs": [],
   "source": [
    "# in: base_classifier - a classifier of the type that we will boost, e.g. BayesClassifier\n",
    "#                   X - N x d matrix of N data points\n",
    "#              labels - N vector of class labels\n",
    "#                   T - number of boosting iterations\n",
    "# out:    classifiers - (maximum) length T Python list of trained classifiers\n",
    "#              alphas - (maximum) length T Python list of vote weights\n",
    "def trainBoost(base_classifier, X, labels, T=10):\n",
    "    # these will come in handy later on\n",
    "    Npts,Ndims = np.shape(X)\n",
    "\n",
    "    classifiers = [] # append new classifiers to this list\n",
    "    alphas = [] # append the vote weight of the classifiers to this list\n",
    "\n",
    "    # The weights for the first iteration\n",
    "    wCur = np.ones((Npts,1))/float(Npts)\n",
    "\n",
    "    for i_iter in range(0, T):\n",
    "        # a new classifier can be trained like this, given the current weights\n",
    "        classifiers.append(base_classifier.trainClassifier(X, labels, wCur))\n",
    "\n",
    "        # do classification for each point\n",
    "        vote = classifiers[-1].classify(X)\n",
    "\n",
    "        # TODO: Fill in the rest, construct the alphas etc.\n",
    "        # ==========================\n",
    "\n",
    "        ############ A5 (2), START #############\n",
    "        \n",
    "        #Calculate the error of the week hypthesis ht with resp. to the weighted distribution\n",
    "        E = sum(wCur[i] * (1 - (1 if labels[i] == vote[i]  else 0)) \\\n",
    "                       for i in range(Npts))\n",
    "        \n",
    "\n",
    "        #choose alpha\n",
    "        alpha = 0.5 * (np.log(1 - E) - np.log(E))\n",
    "\n",
    "        # update the weight according to the equation \n",
    "        for i in range(Npts):\n",
    "            wCur[i] *= np.exp((-1 if labels[i] ==  vote[i] else 1) * alpha)\n",
    "\n",
    "        # normalize\n",
    "        wCur /= np.sum(wCur)\n",
    "\n",
    "        ############ A5 (2), END #############\n",
    "\n",
    "        alphas.append(alpha) # you will need to append the new alpha\n",
    "        # ==========================\n",
    "        \n",
    "    return classifiers, alphas\n",
    "\n",
    "# in:       X - N x d matrix of N data points\n",
    "# classifiers - (maximum) length T Python list of trained classifiers as above\n",
    "#      alphas - (maximum) length T Python list of vote weights\n",
    "#    Nclasses - the number of different classes\n",
    "# out:  yPred - N vector of class predictions for test points\n",
    "def classifyBoost(X, classifiers, alphas, Nclasses):\n",
    "    Npts = X.shape[0]\n",
    "    Ncomps = len(classifiers)\n",
    "\n",
    "    # if we only have one classifier, we may just classify directly\n",
    "    if Ncomps == 1:\n",
    "        return classifiers[0].classify(X)\n",
    "    else:\n",
    "        votes = np.zeros((Npts,Nclasses))\n",
    "\n",
    "        # TODO: implement classificiation when we have trained several classifiers!\n",
    "        # here we can do it by filling in the votes vector with weighted votes\n",
    "        # ==========================\n",
    "        ########### A5 (3), START #############\n",
    "        for ind, cl in enumerate(classifiers):\n",
    "            classified = cl.classify(X)\n",
    "            for i in range(Npts):\n",
    "                votes[i][classified[i]] += alphas[ind]  \n",
    "        #the return parameter alphas, length T list, holds the classifier vote weights   \n",
    "        ############ A5 (3), END #############    \n",
    "        # ==========================\n",
    "\n",
    "        # one way to compute yPred after accumulating the votes\n",
    "        return np.argmax(votes,axis=1)"
   ]
  },
  {
   "cell_type": "markdown",
   "metadata": {
    "id": "zCheUgk5K8j_"
   },
   "source": [
    "The implemented functions can now be summarized another classifer, the `BoostClassifier` class. This class enables boosting different types of classifiers by initializing it with the `base_classifier` argument. No need to add anything here."
   ]
  },
  {
   "cell_type": "code",
   "execution_count": 12,
   "metadata": {
    "executionInfo": {
     "elapsed": 43825,
     "status": "ok",
     "timestamp": 1602704964138,
     "user": {
      "displayName": "Tinker Projects",
      "photoUrl": "",
      "userId": "02989585942682063308"
     },
     "user_tz": -120
    },
    "id": "tdV_hiLmK8kA"
   },
   "outputs": [],
   "source": [
    "# NOTE: no need to touch this\n",
    "class BoostClassifier(object):\n",
    "    def __init__(self, base_classifier, T=10):\n",
    "        self.base_classifier = base_classifier\n",
    "        self.T = T\n",
    "        self.trained = False\n",
    "\n",
    "    def trainClassifier(self, X, labels):\n",
    "        rtn = BoostClassifier(self.base_classifier, self.T)\n",
    "        rtn.nbr_classes = np.size(np.unique(labels))\n",
    "        rtn.classifiers, rtn.alphas = trainBoost(self.base_classifier, X, labels, self.T)\n",
    "        rtn.trained = True\n",
    "        return rtn\n",
    "\n",
    "    def classify(self, X):\n",
    "        return classifyBoost(X, self.classifiers, self.alphas, self.nbr_classes)"
   ]
  },
  {
   "cell_type": "markdown",
   "metadata": {
    "id": "_NDUu66NK8kF"
   },
   "source": [
    "## Run some experiments\n",
    "\n",
    "Call the `testClassifier` and `plotBoundary` functions for this part."
   ]
  },
  {
   "cell_type": "code",
   "execution_count": 13,
   "metadata": {
    "colab": {
     "base_uri": "https://localhost:8080/",
     "height": 277
    },
    "executionInfo": {
     "elapsed": 59762,
     "status": "ok",
     "timestamp": 1602704980096,
     "user": {
      "displayName": "Tinker Projects",
      "photoUrl": "",
      "userId": "02989585942682063308"
     },
     "user_tz": -120
    },
    "id": "OUyvLHS6K8kG",
    "outputId": "da0ba200-6d1f-4d23-e457-49cdff6a25a5"
   },
   "outputs": [
    {
     "name": "stdout",
     "output_type": "stream",
     "text": [
      "Trial: 0 Accuracy 95.6\n"
     ]
    },
    {
     "name": "stderr",
     "output_type": "stream",
     "text": [
      "/usr/local/lib/python2.7/dist-packages/ipykernel_launcher.py:34: RuntimeWarning: divide by zero encountered in log\n",
      "/usr/local/lib/python2.7/dist-packages/ipykernel_launcher.py:41: RuntimeWarning: invalid value encountered in true_divide\n",
      "/usr/local/lib/python2.7/dist-packages/numpy/linalg/linalg.py:2093: RuntimeWarning: invalid value encountered in det\n",
      "  r = _umath_linalg.det(a, signature=signature)\n"
     ]
    },
    {
     "name": "stdout",
     "output_type": "stream",
     "text": [
      "Trial: 10 Accuracy 100\n",
      "Trial: 20 Accuracy 93.3\n",
      "Trial: 30 Accuracy 91.1\n",
      "Trial: 40 Accuracy 97.8\n",
      "Trial: 50 Accuracy 93.3\n",
      "Trial: 60 Accuracy 93.3\n",
      "Trial: 70 Accuracy 97.8\n",
      "Trial: 80 Accuracy 95.6\n",
      "Trial: 90 Accuracy 93.3\n",
      "Final mean classification accuracy  94.1 with standard deviation 6.72\n"
     ]
    }
   ],
   "source": [
    "assignmentNo = 5\n",
    "testClassifier(BoostClassifier(BayesClassifier(), T=10), dataset='iris',split=0.7)"
   ]
  },
  {
   "cell_type": "code",
   "execution_count": 17,
   "metadata": {
    "colab": {
     "base_uri": "https://localhost:8080/",
     "height": 208
    },
    "executionInfo": {
     "elapsed": 206810,
     "status": "ok",
     "timestamp": 1602705265108,
     "user": {
      "displayName": "Tinker Projects",
      "photoUrl": "",
      "userId": "02989585942682063308"
     },
     "user_tz": -120
    },
    "id": "_Jun3sMcK8kL",
    "outputId": "9fb26631-f55f-4141-d6e3-4d14a1024271"
   },
   "outputs": [
    {
     "name": "stdout",
     "output_type": "stream",
     "text": [
      "Trial: 0 Accuracy 76.6\n",
      "Trial: 10 Accuracy 86.4\n",
      "Trial: 20 Accuracy 83.1\n",
      "Trial: 30 Accuracy 80.5\n",
      "Trial: 40 Accuracy 72.7\n",
      "Trial: 50 Accuracy 76\n",
      "Trial: 60 Accuracy 81.8\n",
      "Trial: 70 Accuracy 82.5\n",
      "Trial: 80 Accuracy 79.9\n",
      "Trial: 90 Accuracy 83.1\n",
      "Final mean classification accuracy  80.2 with standard deviation 3.52\n"
     ]
    }
   ],
   "source": [
    "testClassifier(BoostClassifier(BayesClassifier(), T=10), dataset='vowel',split=0.7)"
   ]
  },
  {
   "cell_type": "code",
   "execution_count": 18,
   "metadata": {
    "colab": {
     "base_uri": "https://localhost:8080/",
     "height": 367
    },
    "executionInfo": {
     "elapsed": 38267,
     "status": "ok",
     "timestamp": 1602705478764,
     "user": {
      "displayName": "Tinker Projects",
      "photoUrl": "",
      "userId": "02989585942682063308"
     },
     "user_tz": -120
    },
    "id": "LjQ3-GKWK8kR",
    "outputId": "b803279c-b448-40d0-9416-6086e8f93132"
   },
   "outputs": [
    {
     "data": {
      "image/png": "[encoded data removed]",
      "text/plain": [
       "<Figure size 432x288 with 1 Axes>"
      ]
     },
     "metadata": {
      "needs_background": "light",
      "tags": []
     },
     "output_type": "display_data"
    }
   ],
   "source": [
    "%matplotlib inline\n",
    "plotBoundary(BoostClassifier(BayesClassifier()), dataset='vowel',split=0.7)"
   ]
  },
  {
   "cell_type": "markdown",
   "metadata": {
    "id": "jkjPLBq2K8kX"
   },
   "source": [
    "Now repeat the steps with a decision tree classifier."
   ]
  },
  {
   "cell_type": "code",
   "execution_count": null,
   "metadata": {
    "executionInfo": {
     "elapsed": 80863,
     "status": "aborted",
     "timestamp": 1602705001285,
     "user": {
      "displayName": "Tinker Projects",
      "photoUrl": "",
      "userId": "02989585942682063308"
     },
     "user_tz": -120
    },
    "id": "hMhZf3zWK8kZ"
   },
   "outputs": [],
   "source": [
    "testClassifier(DecisionTreeClassifier(), dataset='iris', split=0.7)"
   ]
  },
  {
   "cell_type": "code",
   "execution_count": null,
   "metadata": {
    "executionInfo": {
     "elapsed": 80847,
     "status": "aborted",
     "timestamp": 1602705001287,
     "user": {
      "displayName": "Tinker Projects",
      "photoUrl": "",
      "userId": "02989585942682063308"
     },
     "user_tz": -120
    },
    "id": "1MqsMpTIK8kf"
   },
   "outputs": [],
   "source": [
    "testClassifier(BoostClassifier(DecisionTreeClassifier(), T=10), dataset='iris',split=0.7)"
   ]
  },
  {
   "cell_type": "code",
   "execution_count": null,
   "metadata": {
    "executionInfo": {
     "elapsed": 80830,
     "status": "aborted",
     "timestamp": 1602705001288,
     "user": {
      "displayName": "Tinker Projects",
      "photoUrl": "",
      "userId": "02989585942682063308"
     },
     "user_tz": -120
    },
    "id": "BnBaF4NIK8kl"
   },
   "outputs": [],
   "source": [
    "testClassifier(DecisionTreeClassifier(), dataset='vowel',split=0.7)"
   ]
  },
  {
   "cell_type": "code",
   "execution_count": null,
   "metadata": {
    "executionInfo": {
     "elapsed": 80815,
     "status": "aborted",
     "timestamp": 1602705001290,
     "user": {
      "displayName": "Tinker Projects",
      "photoUrl": "",
      "userId": "02989585942682063308"
     },
     "user_tz": -120
    },
    "id": "KaSw8J9vK8ku"
   },
   "outputs": [],
   "source": [
    "testClassifier(BoostClassifier(DecisionTreeClassifier(), T=10), dataset='vowel',split=0.7)"
   ]
  },
  {
   "cell_type": "code",
   "execution_count": null,
   "metadata": {
    "executionInfo": {
     "elapsed": 80800,
     "status": "aborted",
     "timestamp": 1602705001291,
     "user": {
      "displayName": "Tinker Projects",
      "photoUrl": "",
      "userId": "02989585942682063308"
     },
     "user_tz": -120
    },
    "id": "HlOrJNjoK8k7"
   },
   "outputs": [],
   "source": [
    "%matplotlib inline\n",
    "plotBoundary(DecisionTreeClassifier(), dataset='iris',split=0.7)"
   ]
  },
  {
   "cell_type": "code",
   "execution_count": null,
   "metadata": {
    "executionInfo": {
     "elapsed": 80784,
     "status": "aborted",
     "timestamp": 1602705001292,
     "user": {
      "displayName": "Tinker Projects",
      "photoUrl": "",
      "userId": "02989585942682063308"
     },
     "user_tz": -120
    },
    "id": "GUy_S9BCK8lB"
   },
   "outputs": [],
   "source": [
    "%matplotlib inline\n",
    "plotBoundary(BoostClassifier(DecisionTreeClassifier(), T=10), dataset='iris',split=0.7)"
   ]
  },
  {
   "cell_type": "markdown",
   "metadata": {
    "id": "zrv82M1hK8lI"
   },
   "source": [
    "## Bonus: Visualize faces classified using boosted decision trees\n",
    "\n",
    "Note that this part of the assignment is completely voluntary! First, let's check how a boosted decision tree classifier performs on the olivetti data. Note that we need to reduce the dimension a bit using PCA, as the original dimension of the image vectors is `64 x 64 = 4096` elements."
   ]
  },
  {
   "cell_type": "code",
   "execution_count": null,
   "metadata": {
    "executionInfo": {
     "elapsed": 80771,
     "status": "aborted",
     "timestamp": 1602705001293,
     "user": {
      "displayName": "Tinker Projects",
      "photoUrl": "",
      "userId": "02989585942682063308"
     },
     "user_tz": -120
    },
    "id": "8weGBicOK8lK"
   },
   "outputs": [],
   "source": [
    "testClassifier(BayesClassifier(), dataset='olivetti',split=0.7, dim=20)"
   ]
  },
  {
   "cell_type": "code",
   "execution_count": null,
   "metadata": {
    "executionInfo": {
     "elapsed": 80760,
     "status": "aborted",
     "timestamp": 1602705001294,
     "user": {
      "displayName": "Tinker Projects",
      "photoUrl": "",
      "userId": "02989585942682063308"
     },
     "user_tz": -120
    },
    "id": "OL72rY13K8lP"
   },
   "outputs": [],
   "source": [
    "testClassifier(BoostClassifier(DecisionTreeClassifier(), T=10), dataset='olivetti',split=0.7, dim=20)"
   ]
  },
  {
   "cell_type": "markdown",
   "metadata": {
    "id": "T-7HYN5pK8lV"
   },
   "source": [
    "You should get an accuracy around 70%. If you wish, you can compare this with using pure decision trees or a boosted bayes classifier. Not too bad, now let's try and classify a face as belonging to one of 40 persons!"
   ]
  },
  {
   "cell_type": "code",
   "execution_count": 19,
   "metadata": {
    "colab": {
     "base_uri": "https://localhost:8080/",
     "height": 268
    },
    "executionInfo": {
     "elapsed": 4767,
     "status": "ok",
     "timestamp": 1602710090822,
     "user": {
      "displayName": "Tinker Projects",
      "photoUrl": "",
      "userId": "02989585942682063308"
     },
     "user_tz": -120
    },
    "id": "TtT5jW61K8lX",
    "outputId": "11aa6d6f-8d6e-4d0a-a802-556e1faa99dd"
   },
   "outputs": [
    {
     "data": {
      "image/png": "[encoded data removed]",
      "text/plain": [
       "<Figure size 432x288 with 8 Axes>"
      ]
     },
     "metadata": {
      "tags": []
     },
     "output_type": "display_data"
    }
   ],
   "source": [
    "%matplotlib inline\n",
    "X,y,pcadim = fetchDataset('olivetti') # fetch the olivetti data\n",
    "xTr,yTr,xTe,yTe,trIdx,teIdx = trteSplitEven(X,y,0.7) # split into training and testing\n",
    "pca = decomposition.PCA(n_components=20) # use PCA to reduce the dimension to 20\n",
    "pca.fit(xTr) # use training data to fit the transform\n",
    "xTrpca = pca.transform(xTr) # apply on training data\n",
    "xTepca = pca.transform(xTe) # apply on test data\n",
    "# use our pre-defined decision tree classifier together with the implemented\n",
    "# boosting to classify data points in the training data\n",
    "classifier = BoostClassifier(DecisionTreeClassifier(), T=10).trainClassifier(xTrpca, yTr)\n",
    "yPr = classifier.classify(xTepca)\n",
    "# choose a test point to visualize\n",
    "testind = random.randint(0, xTe.shape[0]-1)\n",
    "# visualize the test point together with the training points used to train\n",
    "# the class that the test point was classified to belong to\n",
    "visualizeOlivettiVectors(xTr[yTr == yPr[testind],:], xTe[testind,:])"
   ]
  }
 ],
 "metadata": {
  "colab": {
   "collapsed_sections": [],
   "name": "Alex.ipynb",
   "provenance": []
  },
  "kernelspec": {
   "display_name": "Python 3",
   "language": "python",
   "name": "python3"
  },
  "language_info": {
   "codemirror_mode": {
    "name": "ipython",
    "version": 3
   },
   "file_extension": ".py",
   "mimetype": "text/x-python",
   "name": "python",
   "nbconvert_exporter": "python",
   "pygments_lexer": "ipython3",
   "version": "3.7.4"
  }
 },
 "nbformat": 4,
 "nbformat_minor": 1
}
